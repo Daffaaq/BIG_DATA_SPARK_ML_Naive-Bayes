{
  "nbformat": 4,
  "nbformat_minor": 0,
  "metadata": {
    "colab": {
      "provenance": [],
      "toc_visible": true,
      "authorship_tag": "ABX9TyMMQ2bc1GUly7tgqtpkw54A",
      "include_colab_link": true
    },
    "kernelspec": {
      "name": "python3",
      "display_name": "Python 3"
    },
    "language_info": {
      "name": "python"
    }
  },
  "cells": [
    {
      "cell_type": "markdown",
      "metadata": {
        "id": "view-in-github",
        "colab_type": "text"
      },
      "source": [
        "<a href=\"https://colab.research.google.com/github/Daffaaq/BIG_DATA_SPARK_ML_Naive-Bayes/blob/main/Spark_Machine-Learning_Naive_Bayes.ipynb\" target=\"_parent\"><img src=\"https://colab.research.google.com/assets/colab-badge.svg\" alt=\"Open In Colab\"/></a>"
      ]
    },
    {
      "cell_type": "markdown",
      "source": [
        "NAMA Kelompok: \n",
        "\n",
        "\n",
        "1.   Aida Millati Mardiana (2041720071)\n",
        "2.   Daffa Aqila Rahmatullah (2041720098)\n",
        "3.   Dilta Febiana (2041720136)\n",
        "\n"
      ],
      "metadata": {
        "id": "j3m3MW3oS46j"
      }
    },
    {
      "cell_type": "markdown",
      "source": [
        "### Persiapan"
      ],
      "metadata": {
        "id": "MkTfXY2gTBHQ"
      }
    },
    {
      "cell_type": "code",
      "execution_count": 1,
      "metadata": {
        "id": "Z9QmtZDgzS-L"
      },
      "outputs": [],
      "source": [
        "!apt-get install openjdk-11-jdk-headless -qq > /dev/null\n",
        "!wget -q https://downloads.apache.org/spark/spark-3.4.0/spark-3.4.0-bin-hadoop3.tgz\n",
        "\n",
        "!tar xf spark-3.4.0-bin-hadoop3.tgz\n",
        "!pip install -q findspark"
      ]
    },
    {
      "cell_type": "code",
      "source": [
        "pip install pyspark==2.4.4"
      ],
      "metadata": {
        "colab": {
          "base_uri": "https://localhost:8080/"
        },
        "id": "BcwmfevZqUfG",
        "outputId": "0b5a8185-0f9a-4855-d379-78e7d9a1f31a"
      },
      "execution_count": null,
      "outputs": [
        {
          "output_type": "stream",
          "name": "stdout",
          "text": [
            "Looking in indexes: https://pypi.org/simple, https://us-python.pkg.dev/colab-wheels/public/simple/\n",
            "Collecting pyspark==2.4.4\n",
            "  Downloading pyspark-2.4.4.tar.gz (215.7 MB)\n",
            "\u001b[2K     \u001b[90m━━━━━━━━━━━━━━━━━━━━━━━━━━━━━━━━━━━━━━━\u001b[0m \u001b[32m215.7/215.7 MB\u001b[0m \u001b[31m2.4 MB/s\u001b[0m eta \u001b[36m0:00:00\u001b[0m\n",
            "\u001b[?25h  Preparing metadata (setup.py) ... \u001b[?25l\u001b[?25hdone\n",
            "Collecting py4j==0.10.7 (from pyspark==2.4.4)\n",
            "  Downloading py4j-0.10.7-py2.py3-none-any.whl (197 kB)\n",
            "\u001b[2K     \u001b[90m━━━━━━━━━━━━━━━━━━━━━━━━━━━━━━━━━━━━━━\u001b[0m \u001b[32m197.3/197.3 kB\u001b[0m \u001b[31m18.3 MB/s\u001b[0m eta \u001b[36m0:00:00\u001b[0m\n",
            "\u001b[?25hBuilding wheels for collected packages: pyspark\n",
            "  Building wheel for pyspark (setup.py) ... \u001b[?25l\u001b[?25hdone\n",
            "  Created wheel for pyspark: filename=pyspark-2.4.4-py2.py3-none-any.whl size=216130372 sha256=848f1ed84934f20e74e39aeab784499e3cbddbad78e7f8126166505334134ef2\n",
            "  Stored in directory: /root/.cache/pip/wheels/d1/bb/c7/1323feaa6ff889a2471f9c82d07a83bd2ce52e8fb12f86a45a\n",
            "Successfully built pyspark\n",
            "Installing collected packages: py4j, pyspark\n",
            "  Attempting uninstall: py4j\n",
            "    Found existing installation: py4j 0.10.9.7\n",
            "    Uninstalling py4j-0.10.9.7:\n",
            "      Successfully uninstalled py4j-0.10.9.7\n",
            "Successfully installed py4j-0.10.7 pyspark-2.4.4\n"
          ]
        }
      ]
    },
    {
      "cell_type": "code",
      "source": [
        "import os\n",
        "os.environ[\"JAVA_HOME\"] = \"/lib/jvm/java-11-openjdk-amd64\"\n",
        "os.environ[\"SPARK_HOME\"] = \"/content/spark-3.4.0-bin-hadoop3\""
      ],
      "metadata": {
        "id": "88nVaUhE0UMq"
      },
      "execution_count": 2,
      "outputs": []
    },
    {
      "cell_type": "code",
      "source": [
        "import findspark\n",
        "findspark.init()\n",
        "\n",
        "import pyspark\n",
        "from pyspark.sql import SparkSession\n",
        "from pyspark import SparkConf, SparkContext\n",
        "\n",
        "spark = SparkSession.builder.master(\"local[*]\").getOrCreate()\n",
        "sc = SparkContext.getOrCreate();"
      ],
      "metadata": {
        "id": "bpF7waiC0U5K"
      },
      "execution_count": 3,
      "outputs": []
    },
    {
      "cell_type": "code",
      "source": [
        "from google.colab import drive\n",
        "drive.mount('/content/drive')"
      ],
      "metadata": {
        "colab": {
          "base_uri": "https://localhost:8080/"
        },
        "id": "Dv1pTy7HPlgs",
        "outputId": "da2a949b-ff87-45c9-e0a0-5e3cceef5f0e"
      },
      "execution_count": 4,
      "outputs": [
        {
          "output_type": "stream",
          "name": "stdout",
          "text": [
            "Mounted at /content/drive\n"
          ]
        }
      ]
    },
    {
      "cell_type": "markdown",
      "source": [
        "### Organizing data in DataFrames"
      ],
      "metadata": {
        "id": "Gv2l8bLZThXI"
      }
    },
    {
      "cell_type": "code",
      "source": [
        "irisTxtPath = '/content/drive/MyDrive/Semester 5 ML/Pertemuan 8/iris.csv'"
      ],
      "metadata": {
        "id": "YduMSZ3u0aCp"
      },
      "execution_count": 5,
      "outputs": []
    },
    {
      "cell_type": "code",
      "source": [
        "empDF = spark.read.csv(irisTxtPath, header=True)"
      ],
      "metadata": {
        "id": "AHeWrR_iQYf9"
      },
      "execution_count": 6,
      "outputs": []
    },
    {
      "cell_type": "code",
      "source": [
        "empDF"
      ],
      "metadata": {
        "colab": {
          "base_uri": "https://localhost:8080/"
        },
        "id": "02AgghVCQglY",
        "outputId": "ba99aeec-c590-44fd-9f46-34ac7b9450ac"
      },
      "execution_count": 7,
      "outputs": [
        {
          "output_type": "execute_result",
          "data": {
            "text/plain": [
              "DataFrame[5.1: string, 3.5: string, 1.4: string, 0.2: string, Iris-setosa: string]"
            ]
          },
          "metadata": {},
          "execution_count": 7
        }
      ]
    },
    {
      "cell_type": "code",
      "source": [
        "empDF.schema"
      ],
      "metadata": {
        "colab": {
          "base_uri": "https://localhost:8080/"
        },
        "id": "EOAMi9YFQqVA",
        "outputId": "28543a23-0d3f-4fb5-cdc7-b6580a0e2e10"
      },
      "execution_count": 8,
      "outputs": [
        {
          "output_type": "execute_result",
          "data": {
            "text/plain": [
              "StructType([StructField('5.1', StringType(), True), StructField('3.5', StringType(), True), StructField('1.4', StringType(), True), StructField('0.2', StringType(), True), StructField('Iris-setosa', StringType(), True)])"
            ]
          },
          "metadata": {},
          "execution_count": 8
        }
      ]
    },
    {
      "cell_type": "code",
      "source": [
        "empDF.printSchema()"
      ],
      "metadata": {
        "colab": {
          "base_uri": "https://localhost:8080/"
        },
        "id": "nJwGXk7nQuEp",
        "outputId": "8e2d1f7e-3257-4e4d-8c98-79cb66aea848"
      },
      "execution_count": 9,
      "outputs": [
        {
          "output_type": "stream",
          "name": "stdout",
          "text": [
            "root\n",
            " |-- 5.1: string (nullable = true)\n",
            " |-- 3.5: string (nullable = true)\n",
            " |-- 1.4: string (nullable = true)\n",
            " |-- 0.2: string (nullable = true)\n",
            " |-- Iris-setosa: string (nullable = true)\n",
            "\n"
          ]
        }
      ]
    },
    {
      "cell_type": "code",
      "source": [
        "empDF.columns"
      ],
      "metadata": {
        "colab": {
          "base_uri": "https://localhost:8080/"
        },
        "id": "ucQ3skWmQx3B",
        "outputId": "47ada9bc-786f-4a70-89cc-a59b689e847f"
      },
      "execution_count": 10,
      "outputs": [
        {
          "output_type": "execute_result",
          "data": {
            "text/plain": [
              "['5.1', '3.5', '1.4', '0.2', 'Iris-setosa']"
            ]
          },
          "metadata": {},
          "execution_count": 10
        }
      ]
    },
    {
      "cell_type": "code",
      "source": [
        "empDF.take(5)"
      ],
      "metadata": {
        "colab": {
          "base_uri": "https://localhost:8080/"
        },
        "id": "jkoEuoRAQ0uJ",
        "outputId": "e889e07c-2d75-4871-ebed-b54108c81187"
      },
      "execution_count": 11,
      "outputs": [
        {
          "output_type": "execute_result",
          "data": {
            "text/plain": [
              "[Row(5.1='4.9', 3.5='3.0', 1.4='1.4', 0.2='0.2', Iris-setosa='Iris-setosa'),\n",
              " Row(5.1='4.7', 3.5='3.2', 1.4='1.3', 0.2='0.2', Iris-setosa='Iris-setosa'),\n",
              " Row(5.1='4.6', 3.5='3.1', 1.4='1.5', 0.2='0.2', Iris-setosa='Iris-setosa'),\n",
              " Row(5.1='5.0', 3.5='3.6', 1.4='1.4', 0.2='0.2', Iris-setosa='Iris-setosa'),\n",
              " Row(5.1='5.4', 3.5='3.9', 1.4='1.7', 0.2='0.4', Iris-setosa='Iris-setosa')]"
            ]
          },
          "metadata": {},
          "execution_count": 11
        }
      ]
    },
    {
      "cell_type": "code",
      "source": [
        "empDF.count()"
      ],
      "metadata": {
        "colab": {
          "base_uri": "https://localhost:8080/"
        },
        "id": "eFa7L_nGQ30r",
        "outputId": "56a5903a-a983-4bc8-e6bd-d74f129e2661"
      },
      "execution_count": 12,
      "outputs": [
        {
          "output_type": "execute_result",
          "data": {
            "text/plain": [
              "149"
            ]
          },
          "metadata": {},
          "execution_count": 12
        }
      ]
    },
    {
      "cell_type": "code",
      "source": [
        "sampleDF = empDF.sample(False, 0.1)\n",
        "sampleDF.count()"
      ],
      "metadata": {
        "colab": {
          "base_uri": "https://localhost:8080/"
        },
        "id": "o3k5mj4xQ7yB",
        "outputId": "d116b765-34a7-4fd4-d93a-fe98798f0e4d"
      },
      "execution_count": 13,
      "outputs": [
        {
          "output_type": "execute_result",
          "data": {
            "text/plain": [
              "10"
            ]
          },
          "metadata": {},
          "execution_count": 13
        }
      ]
    },
    {
      "cell_type": "code",
      "source": [
        "from pyspark.sql.functions import *\n",
        "from pyspark.ml.feature import VectorAssembler\n",
        "from pyspark.ml.feature import StringIndexer"
      ],
      "metadata": {
        "id": "taC0B061RqCp"
      },
      "execution_count": 15,
      "outputs": []
    },
    {
      "cell_type": "code",
      "source": [
        "irisDF = spark.read.csv(irisTxtPath, inferSchema=True)"
      ],
      "metadata": {
        "id": "zMo_3TfkRqxG"
      },
      "execution_count": 16,
      "outputs": []
    },
    {
      "cell_type": "code",
      "source": [
        "# get new iris txt file to read into for example\n",
        "irisDF.columns"
      ],
      "metadata": {
        "colab": {
          "base_uri": "https://localhost:8080/"
        },
        "id": "z7dtKAqORybs",
        "outputId": "b114227e-e902-422e-8ad3-1251964df1ed"
      },
      "execution_count": 17,
      "outputs": [
        {
          "output_type": "execute_result",
          "data": {
            "text/plain": [
              "['_c0', '_c1', '_c2', '_c3', '_c4']"
            ]
          },
          "metadata": {},
          "execution_count": 17
        }
      ]
    },
    {
      "cell_type": "code",
      "source": [
        "irisDF = irisDF.select(col('_c0').alias('sepal_length'),\n",
        "                       col('_c1').alias('sepal_width'),\n",
        "                       col('_c2').alias('petal_length'),\n",
        "                       col('_c3').alias('petal_width'),\n",
        "                       col('_c4').alias('species'))"
      ],
      "metadata": {
        "id": "JRJHwwdgR3hY"
      },
      "execution_count": 18,
      "outputs": []
    },
    {
      "cell_type": "code",
      "source": [
        "irisDF.take(1)"
      ],
      "metadata": {
        "colab": {
          "base_uri": "https://localhost:8080/"
        },
        "id": "V0tO1AgRR9kv",
        "outputId": "ace80218-df53-4fd0-ff72-d674e5d23f84"
      },
      "execution_count": 19,
      "outputs": [
        {
          "output_type": "execute_result",
          "data": {
            "text/plain": [
              "[Row(sepal_length=5.1, sepal_width=3.5, petal_length=1.4, petal_width=0.2, species='Iris-setosa')]"
            ]
          },
          "metadata": {},
          "execution_count": 19
        }
      ]
    },
    {
      "cell_type": "code",
      "source": [
        "irisDF.printSchema()"
      ],
      "metadata": {
        "colab": {
          "base_uri": "https://localhost:8080/"
        },
        "id": "hI8StDaaSAf5",
        "outputId": "3c7291a3-cdf3-4217-beea-b4fe33ea607b"
      },
      "execution_count": 20,
      "outputs": [
        {
          "output_type": "stream",
          "name": "stdout",
          "text": [
            "root\n",
            " |-- sepal_length: double (nullable = true)\n",
            " |-- sepal_width: double (nullable = true)\n",
            " |-- petal_length: double (nullable = true)\n",
            " |-- petal_width: double (nullable = true)\n",
            " |-- species: string (nullable = true)\n",
            "\n"
          ]
        }
      ]
    },
    {
      "cell_type": "code",
      "source": [
        "vectorAssembler = VectorAssembler(inputCols=['sepal_length',\n",
        "                                             'sepal_width', \n",
        "                                             'petal_length',\n",
        "                                             'petal_width'],\n",
        "                                  outputCol='features')"
      ],
      "metadata": {
        "id": "jlz95tAXSDr4"
      },
      "execution_count": 21,
      "outputs": []
    },
    {
      "cell_type": "code",
      "source": [
        "virisDF = vectorAssembler.transform(irisDF)\n",
        "virisDF.take(1)"
      ],
      "metadata": {
        "colab": {
          "base_uri": "https://localhost:8080/"
        },
        "id": "2Hevz4MySEkR",
        "outputId": "417e36ca-40a3-4617-f259-5a1ccc9b511b"
      },
      "execution_count": 22,
      "outputs": [
        {
          "output_type": "execute_result",
          "data": {
            "text/plain": [
              "[Row(sepal_length=5.1, sepal_width=3.5, petal_length=1.4, petal_width=0.2, species='Iris-setosa', features=DenseVector([5.1, 3.5, 1.4, 0.2]))]"
            ]
          },
          "metadata": {},
          "execution_count": 22
        }
      ]
    },
    {
      "cell_type": "code",
      "source": [
        "indexer = StringIndexer(inputCol='species', outputCol='label')\n",
        "iVirisDF = indexer.fit(virisDF).transform(virisDF)\n",
        "iVirisDF"
      ],
      "metadata": {
        "colab": {
          "base_uri": "https://localhost:8080/"
        },
        "id": "7tkyBdOxSIvN",
        "outputId": "6de1f559-aeaa-4b2a-fe5e-4fac330cc743"
      },
      "execution_count": 23,
      "outputs": [
        {
          "output_type": "execute_result",
          "data": {
            "text/plain": [
              "DataFrame[sepal_length: double, sepal_width: double, petal_length: double, petal_width: double, species: string, features: vector, label: double]"
            ]
          },
          "metadata": {},
          "execution_count": 23
        }
      ]
    },
    {
      "cell_type": "markdown",
      "source": [
        "### Naive Bayes Classification"
      ],
      "metadata": {
        "id": "F8gVF2jbTNP_"
      }
    },
    {
      "cell_type": "code",
      "source": [
        "iVirisDF.take(1)"
      ],
      "metadata": {
        "colab": {
          "base_uri": "https://localhost:8080/"
        },
        "id": "idujbM_9SK-j",
        "outputId": "a4a0127e-f7a1-4847-d6d2-725be6a73689"
      },
      "execution_count": 24,
      "outputs": [
        {
          "output_type": "execute_result",
          "data": {
            "text/plain": [
              "[Row(sepal_length=5.1, sepal_width=3.5, petal_length=1.4, petal_width=0.2, species='Iris-setosa', features=DenseVector([5.1, 3.5, 1.4, 0.2]), label=0.0)]"
            ]
          },
          "metadata": {},
          "execution_count": 24
        }
      ]
    },
    {
      "cell_type": "code",
      "source": [
        "from pyspark.ml.classification import NaiveBayes\n",
        "from pyspark.ml.evaluation import MulticlassClassificationEvaluator"
      ],
      "metadata": {
        "id": "TSBaV9bzSObG"
      },
      "execution_count": 25,
      "outputs": []
    },
    {
      "cell_type": "code",
      "source": [
        "splits = iVirisDF.randomSplit([0.6,0.4],1)\n",
        "trainDF = splits[0]\n",
        "testDF = splits[1]"
      ],
      "metadata": {
        "id": "Uwn5gNoBSaE6"
      },
      "execution_count": 26,
      "outputs": []
    },
    {
      "cell_type": "code",
      "source": [
        "trainDF.count()"
      ],
      "metadata": {
        "colab": {
          "base_uri": "https://localhost:8080/"
        },
        "id": "Es1tZsi6SdD9",
        "outputId": "6c08860d-05b8-4d8a-902b-0c2959e3685d"
      },
      "execution_count": 27,
      "outputs": [
        {
          "output_type": "execute_result",
          "data": {
            "text/plain": [
              "98"
            ]
          },
          "metadata": {},
          "execution_count": 27
        }
      ]
    },
    {
      "cell_type": "code",
      "source": [
        "testDF.count()"
      ],
      "metadata": {
        "colab": {
          "base_uri": "https://localhost:8080/"
        },
        "id": "fHQJ4i4sSfoi",
        "outputId": "3159e62c-1440-4135-d22b-afbfdd6da95e"
      },
      "execution_count": 28,
      "outputs": [
        {
          "output_type": "execute_result",
          "data": {
            "text/plain": [
              "52"
            ]
          },
          "metadata": {},
          "execution_count": 28
        }
      ]
    },
    {
      "cell_type": "code",
      "source": [
        "iVirisDF.count()"
      ],
      "metadata": {
        "colab": {
          "base_uri": "https://localhost:8080/"
        },
        "id": "RkGrfB0hSinR",
        "outputId": "8e3f3ad7-60b2-432e-dfc8-a2c0c6b7867c"
      },
      "execution_count": 29,
      "outputs": [
        {
          "output_type": "execute_result",
          "data": {
            "text/plain": [
              "150"
            ]
          },
          "metadata": {},
          "execution_count": 29
        }
      ]
    },
    {
      "cell_type": "code",
      "source": [
        "nb = NaiveBayes(modelType='multinomial')"
      ],
      "metadata": {
        "id": "7lXJPctaSl8g"
      },
      "execution_count": 30,
      "outputs": []
    },
    {
      "cell_type": "code",
      "source": [
        "nbModel = nb.fit(trainDF)"
      ],
      "metadata": {
        "id": "TgPPZkaGSobJ"
      },
      "execution_count": 31,
      "outputs": []
    },
    {
      "cell_type": "code",
      "source": [
        "predictionsDF = nbModel.transform(testDF)"
      ],
      "metadata": {
        "id": "ednRu5miSrP4"
      },
      "execution_count": 32,
      "outputs": []
    },
    {
      "cell_type": "code",
      "source": [
        "predictionsDF.take(1)"
      ],
      "metadata": {
        "colab": {
          "base_uri": "https://localhost:8080/"
        },
        "id": "hkrKHfHLSuCT",
        "outputId": "5c0f7811-5ad1-4388-f06d-657d3ee283a8"
      },
      "execution_count": 33,
      "outputs": [
        {
          "output_type": "execute_result",
          "data": {
            "text/plain": [
              "[Row(sepal_length=4.3, sepal_width=3.0, petal_length=1.1, petal_width=0.1, species='Iris-setosa', features=DenseVector([4.3, 3.0, 1.1, 0.1]), label=0.0, rawPrediction=DenseVector([-9.9894, -11.3476, -11.902]), probability=DenseVector([0.7118, 0.183, 0.1051]), prediction=0.0)]"
            ]
          },
          "metadata": {},
          "execution_count": 33
        }
      ]
    },
    {
      "cell_type": "code",
      "source": [
        "evaluator = MulticlassClassificationEvaluator(labelCol='label', predictionCol='prediction', metricName='accuracy')"
      ],
      "metadata": {
        "id": "8S5A1sDRSxMQ"
      },
      "execution_count": 34,
      "outputs": []
    },
    {
      "cell_type": "code",
      "source": [
        "nbAccuracy = evaluator.evaluate(predictionsDF)\n",
        "nbAccuracy"
      ],
      "metadata": {
        "colab": {
          "base_uri": "https://localhost:8080/"
        },
        "id": "ITqXS-gDSz3o",
        "outputId": "5d370c04-cc93-444f-c77d-b83273637692"
      },
      "execution_count": 35,
      "outputs": [
        {
          "output_type": "execute_result",
          "data": {
            "text/plain": [
              "0.9807692307692307"
            ]
          },
          "metadata": {},
          "execution_count": 35
        }
      ]
    }
  ]
}